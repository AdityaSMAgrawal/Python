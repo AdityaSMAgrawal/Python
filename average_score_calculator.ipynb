{
 "cells": [
  {
   "cell_type": "code",
   "execution_count": null,
   "id": "a582c14e-333a-4bd5-b452-80b28808af04",
   "metadata": {},
   "outputs": [
    {
     "name": "stdout",
     "output_type": "stream",
     "text": [
      " 3 \n",
      " Alice 34 65 45\n",
      " Tom 34 64 34 \n",
      " John 34 66 53\n",
      " Alice\n"
     ]
    }
   ],
   "source": [
    "#enter the number of students in class\n",
    "#enter their name and marks in three subjects seperated by a whitespace\n",
    "#enter the students name whose average score is required\n",
    "if __name__ == '__main__':\n",
    "    n = int(input())\n",
    "    student_marks = {}\n",
    "    for _ in range(0,n):\n",
    "        name, *line = input().split()\n",
    "        scores = list(map(float, line))\n",
    "        student_marks[name] = scores\n",
    "    query_name = input()"
   ]
  },
  {
   "cell_type": "code",
   "execution_count": 28,
   "id": "514ec6b9-1e69-46a7-b447-2fd9bf726d7d",
   "metadata": {},
   "outputs": [
    {
     "name": "stdout",
     "output_type": "stream",
     "text": [
      "48.00\n"
     ]
    }
   ],
   "source": [
    "list1 = student_marks[query_name]\n",
    "add = 0\n",
    "for i in range(0,3):\n",
    "    add = add + list1[i]\n",
    "ansa = (add/3)\n",
    "ans = f\"{ansa:.2f}\"\n",
    "print(ans)"
   ]
  },
  {
   "cell_type": "code",
   "execution_count": null,
   "id": "a38a4af0-7c0f-4fd5-ad13-eff271977fb3",
   "metadata": {},
   "outputs": [],
   "source": []
  }
 ],
 "metadata": {
  "kernelspec": {
   "display_name": "Python 3 (ipykernel)",
   "language": "python",
   "name": "python3"
  },
  "language_info": {
   "codemirror_mode": {
    "name": "ipython",
    "version": 3
   },
   "file_extension": ".py",
   "mimetype": "text/x-python",
   "name": "python",
   "nbconvert_exporter": "python",
   "pygments_lexer": "ipython3",
   "version": "3.12.4"
  }
 },
 "nbformat": 4,
 "nbformat_minor": 5
}
