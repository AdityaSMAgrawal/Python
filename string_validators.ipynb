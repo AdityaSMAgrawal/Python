{
 "cells": [
  {
   "cell_type": "code",
   "execution_count": 17,
   "id": "73ec3a57-1974-44c3-afd2-cadb62b26fc0",
   "metadata": {},
   "outputs": [
    {
     "name": "stdin",
     "output_type": "stream",
     "text": [
      " qA2\n"
     ]
    }
   ],
   "source": [
    "if __name__ == '__main__':\n",
    "    s = input()\n",
    "    "
   ]
  },
  {
   "cell_type": "code",
   "execution_count": 19,
   "id": "3d35d36c-8902-47eb-849a-d347854c80dc",
   "metadata": {},
   "outputs": [
    {
     "name": "stdout",
     "output_type": "stream",
     "text": [
      "True\n",
      "True\n",
      "True\n",
      "True\n",
      "False\n"
     ]
    }
   ],
   "source": [
    "for i in s:\n",
    "    if i.isalnum()==True:\n",
    "        print(\"True\")\n",
    "        break\n",
    "    else:\n",
    "        pass\n",
    "for i in s:\n",
    "    if i.isalpha()==True:\n",
    "        print(\"True\")\n",
    "        break\n",
    "    elif s[-1].isalpha()==False:\n",
    "        print(\"False\")\n",
    "        break\n",
    "for i in s:\n",
    "    if i.isdigit()==True:\n",
    "        print(\"True\")\n",
    "        break\n",
    "    elif s[-1].isdigit()==False:\n",
    "        print(\"False\")\n",
    "        break\n",
    "for i in s:\n",
    "    if i.islower()==True:\n",
    "        print(\"True\")\n",
    "        break\n",
    "    elif s[-1].islower()==False:\n",
    "        print(\"False\")\n",
    "        break\n",
    "# for i in s:\n",
    "    if i.isupper()==True:\n",
    "        print(\"True\")\n",
    "        break\n",
    "    elif s[-1].isupper()==False:\n",
    "        print(\"False\")\n",
    "        break   \n",
    "    "
   ]
  },
  {
   "cell_type": "code",
   "execution_count": 30,
   "id": "01554698-b6a8-4897-adb4-1a29fe622ab4",
   "metadata": {},
   "outputs": [
    {
     "name": "stdout",
     "output_type": "stream",
     "text": [
      "True\n"
     ]
    }
   ],
   "source": [
    "var = False\n",
    "for i in s:\n",
    "    if i.isalnum()==True:\n",
    "        print(\"True\")\n",
    "        var = True\n",
    "        break\n",
    "if not var:\n",
    "        print(\"False\")\n",
    "var = False\n",
    "for i in s:\n",
    "    if i.isalpha()==True:\n",
    "        print(\"True\")\n",
    "        var = True\n",
    "        break\n",
    "if not var:\n",
    "        print(\"False\")\n",
    "var = False\n",
    "for i in s:\n",
    "    if i.isdigit()==True:\n",
    "        print(\"True\")\n",
    "        var = True\n",
    "        break\n",
    "if not var:\n",
    "        print(\"False\")"
   ]
  },
  {
   "cell_type": "code",
   "execution_count": null,
   "id": "e89f2d1e-2b59-4f74-87fc-9b26249d8a45",
   "metadata": {},
   "outputs": [],
   "source": []
  }
 ],
 "metadata": {
  "kernelspec": {
   "display_name": "Python 3 (ipykernel)",
   "language": "python",
   "name": "python3"
  },
  "language_info": {
   "codemirror_mode": {
    "name": "ipython",
    "version": 3
   },
   "file_extension": ".py",
   "mimetype": "text/x-python",
   "name": "python",
   "nbconvert_exporter": "python",
   "pygments_lexer": "ipython3",
   "version": "3.12.4"
  }
 },
 "nbformat": 4,
 "nbformat_minor": 5
}
