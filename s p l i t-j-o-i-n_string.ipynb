{
 "cells": [
  {
   "cell_type": "code",
   "execution_count": 15,
   "id": "0a827adb-2e44-49c1-a4d5-b2cce178511e",
   "metadata": {},
   "outputs": [
    {
     "name": "stdin",
     "output_type": "stream",
     "text": [
      " Hello fkdsfj fjdskf\n"
     ]
    },
    {
     "name": "stdout",
     "output_type": "stream",
     "text": [
      "Hello-fkdsfj-fjdskf\n"
     ]
    }
   ],
   "source": [
    "def split_and_join(line):\n",
    "    a = line.split(\" \")\n",
    "    b = \"-\".join(a)\n",
    "    return b\n",
    "    # write your code here\n",
    "\n",
    "if __name__ == '__main__':\n",
    "    line = input()\n",
    "    result = split_and_join(line)\n",
    "    print(result)"
   ]
  },
  {
   "cell_type": "code",
   "execution_count": 13,
   "id": "872732fb-2087-47eb-b6fc-c558262c72a4",
   "metadata": {},
   "outputs": [
    {
     "name": "stdout",
     "output_type": "stream",
     "text": [
      "hello-my-name-is-\n"
     ]
    }
   ],
   "source": [
    "line = \"hello my name is \"\n",
    "a = line.split(\" \")\n",
    "b = \"-\".join(a)\n",
    "print(b)"
   ]
  },
  {
   "cell_type": "code",
   "execution_count": null,
   "id": "48fb7cac-86c9-43df-8f88-1582f38354bc",
   "metadata": {},
   "outputs": [],
   "source": []
  }
 ],
 "metadata": {
  "kernelspec": {
   "display_name": "Python 3 (ipykernel)",
   "language": "python",
   "name": "python3"
  },
  "language_info": {
   "codemirror_mode": {
    "name": "ipython",
    "version": 3
   },
   "file_extension": ".py",
   "mimetype": "text/x-python",
   "name": "python",
   "nbconvert_exporter": "python",
   "pygments_lexer": "ipython3",
   "version": "3.12.4"
  }
 },
 "nbformat": 4,
 "nbformat_minor": 5
}
