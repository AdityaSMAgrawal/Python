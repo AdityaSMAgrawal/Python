{
 "cells": [
  {
   "cell_type": "code",
   "execution_count": 33,
   "id": "f0d0543d-80ed-491d-9883-d569e1864a46",
   "metadata": {},
   "outputs": [
    {
     "name": "stdin",
     "output_type": "stream",
     "text": [
      " 3\n"
     ]
    }
   ],
   "source": [
    "if __name__ == '__main__':\n",
    "    N = int(input())"
   ]
  },
  {
   "cell_type": "code",
   "execution_count": 31,
   "id": "53c934ee-a86d-4525-9e1d-6b561979f059",
   "metadata": {},
   "outputs": [
    {
     "name": "stdin",
     "output_type": "stream",
     "text": [
      " reverse\n"
     ]
    },
    {
     "name": "stdout",
     "output_type": "stream",
     "text": [
      "[7, 6, 5, 4, 3, 2, 1]\n"
     ]
    }
   ],
   "source": [
    "list1 = []\n",
    "for i in range(N):\n",
    "    x = input()\n",
    "    y = x.split()\n",
    "    if y[0]==\"insert\":\n",
    "        z = int(y[1])\n",
    "        w = int(y[2])\n",
    "        list1.insert(z,w)\n",
    "    elif y[0]==\"print\":\n",
    "        print(list1)\n",
    "    elif y[0]==\"remove\":\n",
    "        a = int(y[1])\n",
    "        list1.remove(a)\n",
    "    elif y[0]==\"append\":\n",
    "        b = int(y[1])\n",
    "        list1.append(b)\n",
    "    elif y[0]==\"sort\":\n",
    "        list1.sort()\n",
    "    elif y[0]==\"pop\":\n",
    "        list1.pop(-1) \n",
    "    elif y[0]==\"reverse\":\n",
    "        list1.reverse()\n",
    " "
   ]
  },
  {
   "cell_type": "code",
   "execution_count": null,
   "id": "7ee05a49-cdf9-4173-8745-93512d3a2c53",
   "metadata": {},
   "outputs": [],
   "source": []
  }
 ],
 "metadata": {
  "kernelspec": {
   "display_name": "Python 3 (ipykernel)",
   "language": "python",
   "name": "python3"
  },
  "language_info": {
   "codemirror_mode": {
    "name": "ipython",
    "version": 3
   },
   "file_extension": ".py",
   "mimetype": "text/x-python",
   "name": "python",
   "nbconvert_exporter": "python",
   "pygments_lexer": "ipython3",
   "version": "3.12.4"
  }
 },
 "nbformat": 4,
 "nbformat_minor": 5
}
