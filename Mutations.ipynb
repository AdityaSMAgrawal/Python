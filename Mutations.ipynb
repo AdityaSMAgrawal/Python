{
 "cells": [
  {
   "cell_type": "code",
   "execution_count": 17,
   "id": "69ec1bb2-25a1-407c-ae18-612429888c2c",
   "metadata": {},
   "outputs": [
    {
     "name": "stdin",
     "output_type": "stream",
     "text": [
      " asdfghjk\n",
      " 2 e\n"
     ]
    },
    {
     "name": "stdout",
     "output_type": "stream",
     "text": [
      "['a', 's', 'e', 'd', 'f', 'g', 'h', 'j', 'k']\n"
     ]
    }
   ],
   "source": [
    "def mutate_string(string, position, character):\n",
    "    list2 = list(string)\n",
    "    list2.insert(position,character)\n",
    "    string = ''.join(list2)\n",
    "    return list2\n",
    "\n",
    "if __name__ == '__main__':\n",
    "    s = input()\n",
    "    i, c = input().split()\n",
    "    s_new = mutate_string(s, int(i), c)\n",
    "    print(s_new)"
   ]
  },
  {
   "cell_type": "code",
   "execution_count": null,
   "id": "9ed8ab0c-d478-4aa4-95bf-cb59b74cbab7",
   "metadata": {},
   "outputs": [],
   "source": []
  }
 ],
 "metadata": {
  "kernelspec": {
   "display_name": "Python 3 (ipykernel)",
   "language": "python",
   "name": "python3"
  },
  "language_info": {
   "codemirror_mode": {
    "name": "ipython",
    "version": 3
   },
   "file_extension": ".py",
   "mimetype": "text/x-python",
   "name": "python",
   "nbconvert_exporter": "python",
   "pygments_lexer": "ipython3",
   "version": "3.12.4"
  }
 },
 "nbformat": 4,
 "nbformat_minor": 5
}
