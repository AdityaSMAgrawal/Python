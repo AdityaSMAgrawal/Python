{
 "cells": [
  {
   "cell_type": "code",
   "execution_count": 66,
   "id": "18447bd7-d9a2-4056-bbec-87206bb947db",
   "metadata": {},
   "outputs": [
    {
     "name": "stdin",
     "output_type": "stream",
     "text": [
      " hey JKJK\n"
     ]
    },
    {
     "name": "stdout",
     "output_type": "stream",
     "text": [
      "HEY jkjk\n"
     ]
    }
   ],
   "source": [
    "def swap_case(s):\n",
    "    result=[]\n",
    "    for i in s:\n",
    "        if i.isupper():\n",
    "            result.append(i.lower())\n",
    "        elif i.islower():\n",
    "            result.append(i.upper())\n",
    "        elif i.isspace():\n",
    "            result.append(i)\n",
    "        else:\n",
    "            result.append(i)\n",
    "    result=\"\".join(result)\n",
    "    return(result)\n",
    "    # for i in range(x):\n",
    "    #     if s[i].isuppercase():\n",
    "    #         del s[i]\n",
    "    #         c = s[i]\n",
    "    #         s.append(c.lowercase)\n",
    "    #     elif s[i].islowercase():\n",
    "    #         del s[i]\n",
    "    #         c = s[i]\n",
    "    #         s.append(c.uppercase)\n",
    "    #     if s[i]=='A' or 'B' or 'C' or 'D' or 'E' or 'F' or 'G' or 'H' or 'I' or 'J' or 'K' or 'L' or 'M' or 'N' or 'O' or 'P' or 'Q' or 'R' or 'S' or 'T' or 'U' or 'V' or 'W' or 'X' or 'Y' or 'Z':\n",
    "    #         a.append(s[i].lower())\n",
    "    #     elif s[i]=='a' or 'b' or 'c' or 'd' or 'e' or 'f' or 'g' or 'h' or 'i' or 'j' or 'k' or 'l' or 'm' or 'n' or 'o' or 'p' or 'q' or 'r' or 's' or 't' or 'u' or 'v' or 'w' or 'x' or 'y' or 'z':\n",
    "    #     else:\n",
    "    #         a.append(s[i].upper())\n",
    "    # return(a)\n",
    "if __name__ == '__main__':\n",
    "    s = input()\n",
    "    result = swap_case(s)\n",
    "    print(result)"
   ]
  },
  {
   "cell_type": "code",
   "execution_count": null,
   "id": "64b52482-9f00-48e1-9ddb-f68fe1186941",
   "metadata": {},
   "outputs": [],
   "source": []
  }
 ],
 "metadata": {
  "kernelspec": {
   "display_name": "Python 3 (ipykernel)",
   "language": "python",
   "name": "python3"
  },
  "language_info": {
   "codemirror_mode": {
    "name": "ipython",
    "version": 3
   },
   "file_extension": ".py",
   "mimetype": "text/x-python",
   "name": "python",
   "nbconvert_exporter": "python",
   "pygments_lexer": "ipython3",
   "version": "3.12.4"
  }
 },
 "nbformat": 4,
 "nbformat_minor": 5
}
