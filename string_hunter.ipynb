{
 "cells": [
  {
   "cell_type": "code",
   "execution_count": 30,
   "id": "f73e1773-be24-49bb-94d6-323614e892d4",
   "metadata": {},
   "outputs": [
    {
     "name": "stdin",
     "output_type": "stream",
     "text": [
      " ABCDCDC\n",
      " CDC\n"
     ]
    },
    {
     "name": "stdout",
     "output_type": "stream",
     "text": [
      "2\n"
     ]
    }
   ],
   "source": [
    "import re\n",
    "def count_substring(string, sub_string):\n",
    "    pattern = f\"(?={sub_string})\"\n",
    "    match = re.findall(pattern, string)\n",
    "    sum = len(match)\n",
    "    return sum\n",
    "\n",
    "if __name__ == '__main__':\n",
    "    string = input().strip()\n",
    "    sub_string = input().strip()\n",
    "    \n",
    "    count = count_substring(string, sub_string)\n",
    "    print(count)"
   ]
  },
  {
   "cell_type": "code",
   "execution_count": 18,
   "id": "f9ba6f3d-de40-4c13-8eac-70c81d03023b",
   "metadata": {},
   "outputs": [
    {
     "name": "stdout",
     "output_type": "stream",
     "text": [
      "8\n"
     ]
    }
   ],
   "source": [
    "import re\n",
    "pattern=\"[Ii]nnovation\"\n",
    "text='''Ladies and Gentlemen, thank you for joining us today. I stand here not just to talk about progress, but to talk about innovation—that spark, that drive, that transformative force that reshapes our world.\n",
    "\n",
    "Innovation (new idea, creative solution) is everywhere. We see it in technology, as engineers push boundaries, in medicine, where new treatments save lives, and in education, where learning is no longer confined to a classroom. But let’s not just think of innovation as something that happens in labs or companies. Innovation is in our daily lives. When we solve problems in new ways, when we find unique paths to success, we are innovating.\n",
    "\n",
    "And innovation doesn’t happen in isolation. It is the result of collaboration and diverse minds coming together, united by the desire to make things better. That’s why gatherings like this are so important. Each of us has the potential to contribute to innovation, to bring a new idea or perspective that could change lives.\n",
    "\n",
    "In conclusion, innovation is more than a buzzword. It is the cornerstone of progress. So let’s continue to fuel that spirit, encourage it in ourselves and others, and always strive for a world shaped by the power of innovation. Thank you.\n",
    "\n",
    "'''\n",
    "# match = re.search(pattern, text)\n",
    "match = re.findall(pattern, text,re.IGNORECASE)\n",
    "x = len(match)\n",
    "print(x)"
   ]
  },
  {
   "cell_type": "code",
   "execution_count": null,
   "id": "fcb908ee-53c4-46d5-a8cf-707b53fc88e6",
   "metadata": {},
   "outputs": [],
   "source": []
  }
 ],
 "metadata": {
  "kernelspec": {
   "display_name": "Python 3 (ipykernel)",
   "language": "python",
   "name": "python3"
  },
  "language_info": {
   "codemirror_mode": {
    "name": "ipython",
    "version": 3
   },
   "file_extension": ".py",
   "mimetype": "text/x-python",
   "name": "python",
   "nbconvert_exporter": "python",
   "pygments_lexer": "ipython3",
   "version": "3.12.4"
  }
 },
 "nbformat": 4,
 "nbformat_minor": 5
}
